{
 "cells": [
  {
   "cell_type": "code",
   "execution_count": 1,
   "metadata": {
    "colab": {
     "base_uri": "https://localhost:8080/"
    },
    "executionInfo": {
     "elapsed": 7284,
     "status": "ok",
     "timestamp": 1744254113359,
     "user": {
      "displayName": "aiml atme",
      "userId": "03087314293290754859"
     },
     "user_tz": -330
    },
    "id": "ofkDJRxOmy6G",
    "outputId": "06057886-9ab6-4e6f-f12e-8ba615c45e40"
   },
   "outputs": [
    {
     "name": "stdout",
     "output_type": "stream",
     "text": [
      "Requirement already satisfied: gensim in /usr/local/lib/python3.11/dist-packages (4.3.3)\n",
      "Requirement already satisfied: numpy<2.0,>=1.18.5 in /usr/local/lib/python3.11/dist-packages (from gensim) (1.26.4)\n",
      "Requirement already satisfied: scipy<1.14.0,>=1.7.0 in /usr/local/lib/python3.11/dist-packages (from gensim) (1.13.1)\n",
      "Requirement already satisfied: smart-open>=1.8.1 in /usr/local/lib/python3.11/dist-packages (from gensim) (7.1.0)\n",
      "Requirement already satisfied: wrapt in /usr/local/lib/python3.11/dist-packages (from smart-open>=1.8.1->gensim) (1.17.2)\n"
     ]
    }
   ],
   "source": [
    "!pip install gensim"
   ]
  },
  {
   "cell_type": "code",
   "execution_count": 2,
   "metadata": {
    "executionInfo": {
     "elapsed": 3178,
     "status": "ok",
     "timestamp": 1744254124266,
     "user": {
      "displayName": "aiml atme",
      "userId": "03087314293290754859"
     },
     "user_tz": -330
    },
    "id": "TbfUXFAom1OR"
   },
   "outputs": [],
   "source": [
    "from gensim.models import Word2Vec\n",
    "from gensim.utils import simple_preprocess\n",
    "from sklearn.decomposition import PCA\n",
    "import matplotlib.pyplot as plt"
   ]
  },
  {
   "cell_type": "code",
   "execution_count": 5,
   "metadata": {
    "executionInfo": {
     "elapsed": 136,
     "status": "ok",
     "timestamp": 1744254837497,
     "user": {
      "displayName": "aiml atme",
      "userId": "03087314293290754859"
     },
     "user_tz": -330
    },
    "id": "o_WFkOeKm4yX"
   },
   "outputs": [],
   "source": [
    "legal_corpus = [\n",
    "\"The court ruled in favor of the plaintiff.\",\n",
    "\"The defendant was found guilty of negligence.\",\n",
    "\"A breach of contract case was filed.\",\n",
    "\"The agreement between parties must be honored.\",\n",
    "\"The lawyer presented compelling evidence.\",\n",
    "\"Legal documents must be drafted carefully.\",\n",
    "\"The jury deliberated for several hours.\",\n",
    "\"A settlement was reached between the parties.\",\n",
    "\"The plaintiff claimed damages for losses incurred.\",\n",
    "\"The contract outlined the obligations of both parties.\"\n",
    "]\n",
    "# Preprocess the corpus\n",
    "tokenized_corpus = [simple_preprocess(sentence) for sentence in legal_corpus]\n",
    "  # Train the Word2Vec model\n",
    "legal_word2vec = Word2Vec(\n",
    "  sentences=tokenized_corpus,\n",
    "  vector_size=50, # Embedding dimension\n",
    "  window=3, # Context window size\n",
    "  min_count=1, # Minimum word frequency\n",
    "  sg=1, # Skip-gram model\n",
    "  epochs=100 # Training epochs\n",
    ")\n",
    "# Save the model for later use\n",
    "legal_word2vec.save(\"legal_word2vec.model\")"
   ]
  },
  {
   "cell_type": "code",
   "execution_count": 6,
   "metadata": {
    "colab": {
     "base_uri": "https://localhost:8080/"
    },
    "executionInfo": {
     "elapsed": 22,
     "status": "ok",
     "timestamp": 1744254841104,
     "user": {
      "displayName": "aiml atme",
      "userId": "03087314293290754859"
     },
     "user_tz": -330
    },
    "id": "f-jodm4NsGMa",
    "outputId": "c461da04-aafc-4fa4-ebf5-2178ed803871"
   },
   "outputs": [
    {
     "name": "stdout",
     "output_type": "stream",
     "text": [
      "Vector embedding for'lawyer':\n",
      "[ 0.00373483  0.01353383  0.00585796 -0.01324683  0.01500349 -0.01261986\n",
      "  0.01892563  0.00698961 -0.0087639  -0.01023367 -0.00875896 -0.01318524\n",
      "  0.01972703 -0.00463062  0.01525868 -0.01837575  0.0055629  -0.00126356\n",
      "  0.01417167 -0.01969541  0.01564029 -0.00948072 -0.0107858  -0.01128642\n",
      " -0.00610619 -0.00604345 -0.00693252 -0.01396556  0.00086967 -0.00136903\n",
      " -0.00358557  0.00685404 -0.01432065 -0.00657563  0.00952303  0.01720192\n",
      " -0.01858611  0.01418636  0.01038651 -0.00818817  0.01832661 -0.01858529\n",
      "  0.01404059  0.01154918  0.00326395 -0.01036671 -0.00841038 -0.00736812\n",
      "  0.00374052  0.00413726]\n",
      "\n"
     ]
    }
   ],
   "source": [
    "# Analyze embeddings: Display vector for a specific word\n",
    "word = \"lawyer\"\n",
    "if word in legal_word2vec.wv:\n",
    "  print(f\"Vector embedding for'{word}':\\n{legal_word2vec.wv[word]}\\n\")\n",
    "else:\n",
    "  print(f\"Word '{word}' not found in the Word2Vec model.\")"
   ]
  },
  {
   "cell_type": "code",
   "execution_count": 7,
   "metadata": {
    "colab": {
     "base_uri": "https://localhost:8080/"
    },
    "executionInfo": {
     "elapsed": 24,
     "status": "ok",
     "timestamp": 1744254843383,
     "user": {
      "displayName": "aiml atme",
      "userId": "03087314293290754859"
     },
     "user_tz": -330
    },
    "id": "3BDUElKnnDRG",
    "outputId": "2ac1633c-1c59-4c82-d9a9-d1f5052c05b0"
   },
   "outputs": [
    {
     "data": {
      "text/plain": [
       "[array([-0.01018794, -0.0037532 , -0.01479373,  0.00535417,  0.00549183,\n",
       "        -0.00194653, -0.00904275, -0.00120178,  0.01239534,  0.005502  ,\n",
       "        -0.01752885, -0.00888894,  0.00678894,  0.00598825, -0.01972261,\n",
       "         0.01158325, -0.01438892, -0.01200779,  0.00463451, -0.01056976,\n",
       "         0.00906795,  0.01991566, -0.00384839,  0.01845003,  0.00452612,\n",
       "         0.02153785,  0.0106156 , -0.0164802 , -0.0075984 ,  0.01259563,\n",
       "         0.01069134,  0.01610584,  0.01608272,  0.01619358, -0.02157517,\n",
       "         0.00898223, -0.00762749,  0.00642556,  0.01106042,  0.00757853,\n",
       "         0.01795846,  0.00227335, -0.00347768,  0.01356644, -0.00962057,\n",
       "         0.00016249,  0.01841913, -0.01246461,  0.00897428, -0.01424266],\n",
       "       dtype=float32),\n",
       " array([-0.01382369,  0.0011437 , -0.01449836, -0.00296123,  0.00624782,\n",
       "         0.00982854,  0.00482432,  0.00674102, -0.01035763,  0.0125059 ,\n",
       "        -0.01251031,  0.00691753, -0.01420641,  0.00583739, -0.01051113,\n",
       "        -0.00608784, -0.00284186,  0.01448168,  0.00904517, -0.01370935,\n",
       "         0.00321437, -0.01510567,  0.01918532,  0.01829434, -0.00426899,\n",
       "         0.00343321,  0.00058916,  0.01309333, -0.0183534 ,  0.00069488,\n",
       "         0.0132396 ,  0.0028656 ,  0.00451153, -0.01875341,  0.01468391,\n",
       "        -0.01201477, -0.00313035,  0.00620906, -0.0025351 ,  0.00151398,\n",
       "         0.0066815 , -0.01435055, -0.02045849,  0.01987134,  0.01433266,\n",
       "        -0.01331776,  0.00661788, -0.00128313,  0.01081608, -0.01213262],\n",
       "       dtype=float32),\n",
       " array([-0.01735372,  0.00324048, -0.00153466, -0.01745638, -0.01992291,\n",
       "        -0.00444436,  0.01032289,  0.00879421, -0.01455397, -0.01536747,\n",
       "        -0.01001598, -0.00653257, -0.0128883 , -0.01829896, -0.0059358 ,\n",
       "        -0.01495283, -0.00974466, -0.00899372, -0.00697665, -0.00573702,\n",
       "        -0.01700949,  0.0003172 ,  0.01874463,  0.01480774, -0.01384414,\n",
       "        -0.00612229,  0.00565069, -0.01732042,  0.00195022,  0.01274919,\n",
       "         0.01080692, -0.01920946, -0.00795812, -0.01638088, -0.00148547,\n",
       "         0.01870203,  0.01399906,  0.00958245,  0.00941055, -0.00658938,\n",
       "         0.02153141, -0.01520018, -0.01545056, -0.00327682,  0.00024155,\n",
       "        -0.00606883, -0.00135896,  0.01406399,  0.00023136, -0.00163963],\n",
       "       dtype=float32),\n",
       " array([ 0.00544287,  0.01555425, -0.00307019,  0.01717134,  0.00693973,\n",
       "        -0.0170452 , -0.00679161, -0.00333116,  0.00903156, -0.00295565,\n",
       "        -0.00578579,  0.01436892,  0.02001157, -0.00213262, -0.01079166,\n",
       "        -0.007799  , -0.00751752, -0.01736892,  0.00095211, -0.01050753,\n",
       "         0.00615652,  0.01262798, -0.00638232, -0.01966911,  0.00394809,\n",
       "        -0.01237557,  0.0045896 , -0.00610946,  0.01346509,  0.00106505,\n",
       "         0.00631289, -0.00667795, -0.00218376,  0.01535427,  0.00144457,\n",
       "        -0.0117866 , -0.01405202,  0.00186158,  0.0125593 ,  0.0105592 ,\n",
       "        -0.01650265,  0.01693893,  0.0074757 ,  0.0163192 ,  0.02056517,\n",
       "        -0.01457632, -0.01834234,  0.01092377,  0.01994778,  0.00864314],\n",
       "       dtype=float32),\n",
       " array([ 0.00373483,  0.01353383,  0.00585796, -0.01324683,  0.01500349,\n",
       "        -0.01261986,  0.01892563,  0.00698961, -0.0087639 , -0.01023367,\n",
       "        -0.00875896, -0.01318524,  0.01972703, -0.00463062,  0.01525868,\n",
       "        -0.01837575,  0.0055629 , -0.00126356,  0.01417167, -0.01969541,\n",
       "         0.01564029, -0.00948072, -0.0107858 , -0.01128642, -0.00610619,\n",
       "        -0.00604345, -0.00693252, -0.01396556,  0.00086967, -0.00136903,\n",
       "        -0.00358557,  0.00685404, -0.01432065, -0.00657563,  0.00952303,\n",
       "         0.01720192, -0.01858611,  0.01418636,  0.01038651, -0.00818817,\n",
       "         0.01832661, -0.01858529,  0.01404059,  0.01154918,  0.00326395,\n",
       "        -0.01036671, -0.00841038, -0.00736812,  0.00374052,  0.00413726],\n",
       "       dtype=float32),\n",
       " array([ 0.00550566,  0.00103798, -0.00515228,  0.01945088,  0.00499871,\n",
       "         0.00736707, -0.0011947 ,  0.00298867,  0.01247635, -0.00248031,\n",
       "         0.00660107, -0.00238972,  0.01178223,  0.00798718,  0.00505932,\n",
       "        -0.00936528, -0.00755702,  0.00989482, -0.01304692, -0.00193519,\n",
       "        -0.00039899,  0.0078729 , -0.01549838,  0.01741308, -0.0023178 ,\n",
       "        -0.00983727,  0.00754468, -0.0027872 , -0.01603217, -0.00921708,\n",
       "        -0.00134961, -0.01871502,  0.002125  ,  0.00480915, -0.00744796,\n",
       "         0.00537565,  0.00629158,  0.01973929,  0.0024904 ,  0.00340102,\n",
       "         0.00710946, -0.00441335, -0.01761757,  0.01698   , -0.0031966 ,\n",
       "        -0.0194808 , -0.01307702, -0.00849545,  0.00867249,  0.01145031],\n",
       "       dtype=float32),\n",
       " array([ 0.00298495, -0.00700375, -0.01431873, -0.01400242, -0.01991   ,\n",
       "        -0.01428693, -0.00105788, -0.00551727, -0.0153189 , -0.0100668 ,\n",
       "         0.00858984, -0.01069687,  0.01958971,  0.00508815, -0.01531299,\n",
       "         0.02237322,  0.01962719,  0.01488377, -0.01710452,  0.00707861,\n",
       "         0.01021231,  0.01304598,  0.01277774,  0.00337116, -0.00486931,\n",
       "         0.01909359,  0.01800028,  0.01032766, -0.00758116, -0.00048564,\n",
       "         0.00164387, -0.0189941 , -0.01410591, -0.00047871, -0.00010738,\n",
       "        -0.01102702, -0.0061726 , -0.01550268,  0.0161471 , -0.00069464,\n",
       "        -0.00545253,  0.01093123,  0.01718066, -0.00617879,  0.0186232 ,\n",
       "         0.01143978,  0.01163601, -0.00062903,  0.01886317, -0.0114121 ],\n",
       "       dtype=float32),\n",
       " array([-0.00976338, -0.00780081,  0.019559  ,  0.01830878, -0.00654693,\n",
       "         0.01011876,  0.01784409, -0.00301464,  0.01761319,  0.01262996,\n",
       "         0.00393919, -0.00980376, -0.00886089, -0.00519702,  0.01557352,\n",
       "        -0.01077065, -0.00356288,  0.02101176,  0.00479641,  0.01005143,\n",
       "        -0.01529913,  0.00012613,  0.01357427, -0.01018804,  0.01573833,\n",
       "         0.02000298, -0.00148577, -0.00239202, -0.00189635, -0.01172749,\n",
       "        -0.01742925, -0.00479667, -0.00404787,  0.00869905, -0.01522061,\n",
       "         0.01094797, -0.01160657, -0.0163735 ,  0.01649981,  0.01770434,\n",
       "        -0.00497504,  0.00637913, -0.01261914, -0.0161758 , -0.00964475,\n",
       "         0.01381735,  0.01255536,  0.01808335,  0.01568656,  0.01504712],\n",
       "       dtype=float32),\n",
       " array([ 0.01492715,  0.01934095,  0.01774599, -0.00747902,  0.01891196,\n",
       "        -0.0020531 ,  0.01053821,  0.00635226, -0.00197045,  0.00632444,\n",
       "        -0.01059867, -0.01259004, -0.01428318,  0.00465197,  0.01267453,\n",
       "         0.0028981 ,  0.00384051,  0.00779968,  0.01519439, -0.01727828,\n",
       "         0.00548228, -0.01392599,  0.00899558,  0.01923842,  0.01556924,\n",
       "         0.01372755,  0.01566461,  0.01412691,  0.01313736,  0.01728814,\n",
       "        -0.01028677,  0.01760968,  0.01114872, -0.00440745,  0.01607866,\n",
       "         0.01023387,  0.02058647,  0.00533376,  0.01917837,  0.00176341,\n",
       "         0.01960336,  0.0070012 ,  0.01266869, -0.00624314,  0.01447076,\n",
       "         0.01456392, -0.00432669, -0.00459186,  0.00780778, -0.01304201],\n",
       "       dtype=float32),\n",
       " array([ 0.0158812 ,  0.0174168 ,  0.00195527, -0.01554414,  0.01595952,\n",
       "        -0.00898288,  0.0134456 ,  0.01096715,  0.01782416, -0.02043355,\n",
       "         0.01853634, -0.02043897, -0.01187125, -0.01672532, -0.01152777,\n",
       "         0.01697107,  0.02129747, -0.00410723,  0.0053023 , -0.01103053,\n",
       "         0.017639  ,  0.01337754,  0.0028419 , -0.00731513, -0.01343816,\n",
       "         0.01128781,  0.00173393, -0.00338352,  0.01469343, -0.00834176,\n",
       "        -0.01866035, -0.00566033,  0.00234445, -0.0135692 , -0.0126051 ,\n",
       "        -0.01704373,  0.02071049,  0.0147259 , -0.00145971,  0.01323994,\n",
       "         0.01840546, -0.0020906 ,  0.0126531 ,  0.0093615 ,  0.01196339,\n",
       "         0.01458218, -0.00961088, -0.00608193,  0.00305689,  0.01033708],\n",
       "       dtype=float32)]"
      ]
     },
     "execution_count": 7,
     "metadata": {},
     "output_type": "execute_result"
    }
   ],
   "source": [
    "# Visualize embeddings using PCA\n",
    "words_to_visualize = [\"court\", \"plaintiff\", \"defendant\", \"agreement\",\n",
    "\"lawyer\", \"evidence\", \"contract\", \"settlement\", \"jury\", \"damages\"]\n",
    "word_vectors = [legal_word2vec.wv[word] for word in words_to_visualize]\n",
    "word_vectors\n"
   ]
  },
  {
   "cell_type": "code",
   "execution_count": 8,
   "metadata": {
    "colab": {
     "base_uri": "https://localhost:8080/"
    },
    "executionInfo": {
     "elapsed": 8,
     "status": "ok",
     "timestamp": 1744254978788,
     "user": {
      "displayName": "aiml atme",
      "userId": "03087314293290754859"
     },
     "user_tz": -330
    },
    "id": "ahAGqvqtsP9Z",
    "outputId": "d9eae064-4dfb-41f3-b238-6c7a4fb9f17b"
   },
   "outputs": [
    {
     "data": {
      "text/plain": [
       "array([[ 0.02688162, -0.00792018],\n",
       "       [ 0.00493226, -0.04934309],\n",
       "       [-0.00377306, -0.04936944],\n",
       "       [ 0.02256997,  0.03808062],\n",
       "       [-0.0355795 , -0.01066101],\n",
       "       [ 0.02682294, -0.01050709],\n",
       "       [ 0.01486912,  0.0443972 ],\n",
       "       [ 0.04605154,  0.01166099],\n",
       "       [-0.0482769 , -0.0079725 ],\n",
       "       [-0.05449799,  0.0416345 ]])"
      ]
     },
     "execution_count": 8,
     "metadata": {},
     "output_type": "execute_result"
    }
   ],
   "source": [
    "# Dimensionality reduction\n",
    "pca = PCA(n_components=2)\n",
    "reduced_vectors = pca.fit_transform(word_vectors)\n",
    "reduced_vectors"
   ]
  },
  {
   "cell_type": "code",
   "execution_count": null,
   "metadata": {
    "colab": {
     "base_uri": "https://localhost:8080/",
     "height": 672
    },
    "executionInfo": {
     "elapsed": 487,
     "status": "ok",
     "timestamp": 1744254994139,
     "user": {
      "displayName": "aiml atme",
      "userId": "03087314293290754859"
     },
     "user_tz": -330
    },
    "id": "FfMGvSvisThj",
    "outputId": "006c23be-bcc2-4845-cf40-1a312fef363f"
   },
   "outputs": [
    {
     "data": {
      "image/png": "[encoded data removed]",
      "text/plain": [
       "<Figure size 1000x800 with 1 Axes>"
      ]
     },
     "metadata": {},
     "output_type": "display_data"
    }
   ],
   "source": [
    "# Plot embeddings\n",
    "plt.figure(figsize=(10, 8))\n",
    "for i, word in enumerate(words_to_visualize):\n",
    "  plt.scatter(reduced_vectors[i, 0], reduced_vectors[i, 1])\n",
    "  plt.text(reduced_vectors[i, 0] + 0.002, reduced_vectors[i, 1],word, fontsize=12)\n",
    "plt.title(\"PCA Visualization of Legal Word Embeddings\")\n",
    "plt.xlabel(\"PCA Dimension 1\")\n",
    "plt.ylabel(\"PCA Dimension 2\")\n",
    "plt.show()"
   ]
  },
  {
   "cell_type": "code",
   "execution_count": 10,
   "metadata": {
    "colab": {
     "base_uri": "https://localhost:8080/"
    },
    "executionInfo": {
     "elapsed": 19,
     "status": "ok",
     "timestamp": 1744254998487,
     "user": {
      "displayName": "aiml atme",
      "userId": "03087314293290754859"
     },
     "user_tz": -330
    },
    "id": "nImZjRPPsYPK",
    "outputId": "d6b95763-2792-46ad-b78b-60067983d653"
   },
   "outputs": [
    {
     "name": "stdout",
     "output_type": "stream",
     "text": [
      "Words similar to 'lawyer': [('carefully', 0.29186686873435974), ('claimed', 0.27888569235801697), ('jury', 0.21892617642879486), ('damages', 0.1961500644683838), ('negligence', 0.1820133775472641)]\n"
     ]
    }
   ],
   "source": [
    "# Find similar words\n",
    "similar_words = legal_word2vec.wv.most_similar(\"lawyer\", topn=5)\n",
    "print(f\"Words similar to 'lawyer': {similar_words}\")"
   ]
  }
 ],
 "metadata": {
  "colab": {
   "authorship_tag": "ABX9TyPw5hogd83Muhrprfc1IbwK",
   "provenance": []
  },
  "kernelspec": {
   "display_name": "Python 3",
   "name": "python3"
  },
  "language_info": {
   "name": "python"
  }
 },
 "nbformat": 4,
 "nbformat_minor": 0
}
