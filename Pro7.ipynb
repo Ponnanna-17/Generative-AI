{
  "cells": [
    {
      "cell_type": "code",
      "execution_count": null,
      "metadata": {
        "colab": {
          "base_uri": "https://localhost:8080/"
        },
        "id": "59bz_8YqBgEQ",
        "outputId": "315b72c0-b4ef-43ca-c87e-15727cf947d8"
      },
      "outputs": [
        {
          "name": "stderr",
          "output_type": "stream",
          "text": [
            "No model was supplied, defaulted to sshleifer/distilbart-cnn-12-6 and revision a4f8f3e (https://huggingface.co/sshleifer/distilbart-cnn-12-6).\n",
            "Using a pipeline without specifying a model name and revision in production is not recommended.\n",
            "Device set to use cpu\n"
          ]
        },
        {
          "name": "stdout",
          "output_type": "stream",
          "text": [
            "Summarized Text:\n",
            "  Artificial Intelligence (AI) is transforming education by introducing adaptive learning techniques . AI-driven learning platforms analyze vast amounts of student data, including learning habits, strengths, and weaknesses .\n"
          ]
        }
      ],
      "source": [
        "!pip install transformers -U\n",
        "from transformers import pipeline\n",
        "\n",
        "summarizer = pipeline(\"summarization\")\n",
        "\n",
        "text = \"\"\"\n",
        "Artificial Intelligence (AI) is transforming education by introducing adaptive learning\n",
        "techniques, automating administrative processes, and enabling intelligent tutoring systems.\n",
        "AI-driven learning platforms analyze vast amounts of student data, including learning habits,\n",
        "strengths, and weaknesses, to personalize educational experiences.  This customization\n",
        "allows students to progress at their own pace, ensuring that they receive content suited to\n",
        "their proficiency level. Additionally, AI chatbots and virtual assistants are becoming common\n",
        "in academic institutions, providing real-time support to students. These tools answer\n",
        "frequently asked questions, guide students through complex topics, and help with scheduling\n",
        "and reminders. Educators also benefit from AI-powered grading systems that assess\n",
        "assignments, quizzes, and exams, significantly reducing workload and providing instant\n",
        "feedback. Moreover, AI enhances accessibility in education by offering language translation\n",
        "services, speech-to-text conversion, and assistive technologies for students with disabilities.\n",
        "By breaking language barriers and supporting diverse learning needs, AI makes education\n",
        "more inclusive. However, challenges remain in implementing AI in education. Data privacy\n",
        "concerns arise as student information is collected and analyzed, requiring robust security\n",
        "measures. There is also the risk of AI biases, where algorithmic decisions may favor certain\n",
        "groups over others due to biased training data. Additionally, educators must undergo proper\n",
        "training to integrate AI effectively into their teaching methods. To fully harness AI’s\n",
        "potential in education, institutions must adopt ethical AI frameworks, ensure transparency in\n",
        "algorithmic decision-making, and continuously update their technological infrastructure.\n",
        "Collaboration between educators, policymakers, and AI developers is crucial in shaping the\n",
        "future of education and ensuring that AI serves as an enabler rather than a disruptor.\"\"\"\n",
        "\n",
        "summary = summarizer(text, max_length=100, min_length=50, do_sample=False)\n",
        "print(\"Summarized Text:\\n\", summary[0]['summary_text'])"
      ]
    }
  ],
  "metadata": {
    "colab": {
      "provenance": []
    },
    "kernelspec": {
      "display_name": "Python 3",
      "name": "python3"
    },
    "language_info": {
      "name": "python"
    }
  },
  "nbformat": 4,
  "nbformat_minor": 0
}
