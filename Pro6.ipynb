{
 "cells": [
  {
   "cell_type": "code",
   "execution_count": null,
   "metadata": {},
   "outputs": [],
   "source": [
    "%pip install --upgrade --quiet huggingface_hub \n",
    "%pip install --upgrade langchain \n",
    "from transformers import pipeline \n",
    "\n",
    "sentiment_analyzer = pipeline(\"sentiment-analysis\") \n",
    "\n",
    "sentences = [ \n",
    "\"The product quality is amazing! I'm very satisfied.\", \n",
    "\"I had a terrible experience with customer service.\", \n",
    "\"The delivery was quick, but the packaging was damaged.\", \n",
    "\"Absolutely love this! Best purchase I've made.\", \n",
    "\"Not worth the money, very disappointed.\" \n",
    "]\n",
    "\n",
    "results = sentiment_analyzer(sentences) \n",
    "\n",
    "for sentence, result in zip(sentences, results): \n",
    "  print(f\"Sentence:{sentence}\\nSentiment: {result['label']}, Confidence:{result['score']:.2f}\\n\")"
   ]
  }
 ],
 "metadata": {
  "kernelspec": {
   "display_name": "Python 3",
   "language": "python",
   "name": "python3"
  },
  "language_info": {
   "name": "python",
   "version": "3.12.7"
  }
 },
 "nbformat": 4,
 "nbformat_minor": 5
}
